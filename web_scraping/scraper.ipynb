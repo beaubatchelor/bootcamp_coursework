{
 "cells": [
  {
   "cell_type": "code",
   "execution_count": 60,
   "metadata": {},
   "outputs": [],
   "source": [
    "from splinter import Browser\n",
    "from bs4 import BeautifulSoup\n",
    "\n",
    "\n",
    "def init_browser():\n",
    "    # @NOTE: Replace the path with your actual path to the chromedriver\n",
    "    executable_path = {\"executable_path\": \"C:\\Program Files (x86)\\Google\\chromedriver\"}\n",
    "    return Browser(\"chrome\", **executable_path, headless=False)\n",
    "\n",
    "\n",
    "def scrape_first(url, dicti, tags_class_dict):\n",
    "    browser = init_browser()\n",
    "    browser.visit(str(url))\n",
    "    html = browser.html\n",
    "    soup = BeautifulSoup(html, \"lxml\")\n",
    "    \n",
    "    for key, value in tags_class_dict.items():\n",
    "        dicti[key] = soup.find(value, class_= key).get_text()\n",
    "        try:\n",
    "            dicti[key+\"_Style\"] = soup.find(value, class_= key)['style']\n",
    "        except:\n",
    "            dicti[key+\"_Style\"] = \"Not Available\"\n",
    "    \n",
    "    browser.quit()\n",
    "    \n",
    "    return dicti\n",
    "    \n"
   ]
  },
  {
   "cell_type": "code",
   "execution_count": 61,
   "metadata": {},
   "outputs": [
    {
     "data": {
      "text/plain": [
       "{'content_title': 'NASA Launches a New Podcast to Mars',\n",
       " 'content_title_Style': 'Not Available',\n",
       " 'article_teaser_body': \"NASA's new eight-episode series 'On a Mission' follows the InSight spacecraft on its journey to Mars and details the extraordinary challenges of landing on the Red Planet.\",\n",
       " 'article_teaser_body_Style': 'Not Available'}"
      ]
     },
     "execution_count": 61,
     "metadata": {},
     "output_type": "execute_result"
    }
   ],
   "source": [
    "mars_news = {}\n",
    "news_url = \"https://mars.nasa.gov/news/?page=0&per_page=40&order=publish_date+desc%2Ccreated_at+desc&search=&category=19%2C165%2C184%2C204&blank_scope=Latest\"\n",
    "news_dict = {\"content_title\" : \"div\", \"article_teaser_body\" : \"div\"}\n",
    "       \n",
    "scrape_first(news_url, mars_news, news_dict)\n",
    "\n"
   ]
  },
  {
   "cell_type": "code",
   "execution_count": 75,
   "metadata": {},
   "outputs": [
    {
     "data": {
      "text/plain": [
       "{'carousel_item': \"\\n\\n\\n\\n\\n\\t\\t\\t\\t  FEATURED IMAGE\\n\\t\\t\\t\\t\\n\\n\\t\\t\\t\\t  Curiosity's Location During First Scooping\\t\\t\\t\\t\\n\\n\\n\\n\\n\\t\\t\\t\\t\\tFULL IMAGE\\n\\t\\t\\t\\t  \\n\\n\\n\\n\\n\",\n",
       " 'carousel_item_Style': \"background-image: url('/spaceimages/images/wallpaper/PIA16227-1920x1200.jpg');\"}"
      ]
     },
     "execution_count": 75,
     "metadata": {},
     "output_type": "execute_result"
    }
   ],
   "source": [
    "mars_image = {}\n",
    "featured_image_url = \"https://www.jpl.nasa.gov/spaceimages/?search=&category=Mars\"\n",
    "image_dict = {\"carousel_item\" : \"article\"}\n",
    "\n",
    "scrape_first(featured_image_url, mars_image, image_dict)\n"
   ]
  },
  {
   "cell_type": "code",
   "execution_count": 76,
   "metadata": {},
   "outputs": [
    {
     "data": {
      "text/plain": [
       "'https://www.jpl.nasa.gov/spaceimages/images/wallpaper/PIA16227-1920x1200.jpg'"
      ]
     },
     "execution_count": 76,
     "metadata": {},
     "output_type": "execute_result"
    }
   ],
   "source": [
    "jpg_img_path = mars_image[\"carousel_item_Style\"][slice(23,-3,1)]\n",
    "featured_image_url = \"https://www.jpl.nasa.gov\"+jpg_img_path\n",
    "\n",
    "featured_image_url"
   ]
  },
  {
   "cell_type": "code",
   "execution_count": null,
   "metadata": {},
   "outputs": [],
   "source": []
  }
 ],
 "metadata": {
  "kernelspec": {
   "display_name": "Python [conda env:pythondata]",
   "language": "python",
   "name": "conda-env-pythondata-py"
  },
  "language_info": {
   "codemirror_mode": {
    "name": "ipython",
    "version": 3
   },
   "file_extension": ".py",
   "mimetype": "text/x-python",
   "name": "python",
   "nbconvert_exporter": "python",
   "pygments_lexer": "ipython3",
   "version": "3.6.5"
  }
 },
 "nbformat": 4,
 "nbformat_minor": 2
}
