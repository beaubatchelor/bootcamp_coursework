{
 "cells": [
  {
   "cell_type": "code",
   "execution_count": 1,
   "metadata": {},
   "outputs": [],
   "source": [
    "%matplotlib inline\n",
    "from matplotlib import style\n",
    "style.use('fivethirtyeight')\n",
    "import matplotlib.pyplot as plt"
   ]
  },
  {
   "cell_type": "code",
   "execution_count": 2,
   "metadata": {},
   "outputs": [],
   "source": [
    "import numpy as np\n",
    "import pandas as pd"
   ]
  },
  {
   "cell_type": "code",
   "execution_count": 3,
   "metadata": {},
   "outputs": [],
   "source": [
    "import datetime as dt"
   ]
  },
  {
   "cell_type": "markdown",
   "metadata": {},
   "source": [
    "# Reflect Tables into SQLAlchemy ORM"
   ]
  },
  {
   "cell_type": "code",
   "execution_count": 4,
   "metadata": {},
   "outputs": [],
   "source": [
    "# Python SQL toolkit and Object Relational Mapper\n",
    "import sqlalchemy\n",
    "from sqlalchemy.ext.automap import automap_base\n",
    "from sqlalchemy.orm import Session\n",
    "from sqlalchemy import create_engine, func, inspect, and_"
   ]
  },
  {
   "cell_type": "code",
   "execution_count": 5,
   "metadata": {},
   "outputs": [],
   "source": [
    "    engine = create_engine(\"sqlite:///Resources/hawaii.sqlite\", echo=False)"
   ]
  },
  {
   "cell_type": "code",
   "execution_count": 6,
   "metadata": {},
   "outputs": [],
   "source": [
    "# reflect an existing database into a new model\n",
    "Base = automap_base()\n",
    "# reflect the tables\n",
    "Base.prepare(engine, reflect=True)"
   ]
  },
  {
   "cell_type": "code",
   "execution_count": 7,
   "metadata": {},
   "outputs": [
    {
     "data": {
      "text/plain": [
       "['measurement', 'station']"
      ]
     },
     "execution_count": 7,
     "metadata": {},
     "output_type": "execute_result"
    }
   ],
   "source": [
    "# We can view all of the classes that automap found\n",
    "Base.classes.keys()"
   ]
  },
  {
   "cell_type": "code",
   "execution_count": 8,
   "metadata": {},
   "outputs": [],
   "source": [
    "# Save references to each table\n",
    "Measurement = Base.classes.measurement\n",
    "Station = Base.classes.station"
   ]
  },
  {
   "cell_type": "code",
   "execution_count": 9,
   "metadata": {},
   "outputs": [],
   "source": [
    "# Create our session (link) from Python to the DB\n",
    "session = Session(bind=engine)"
   ]
  },
  {
   "cell_type": "markdown",
   "metadata": {},
   "source": [
    "# Exploratory Climate Analysis"
   ]
  },
  {
   "cell_type": "code",
   "execution_count": 10,
   "metadata": {},
   "outputs": [],
   "source": [
    "# Design a query to retrieve the last 12 months of precipitation data and plot the results\n",
    "\n",
    "# Calculate the date 1 year ago from today\n",
    "today_dt = dt.datetime.now().date() - dt.timedelta(days=365)\n",
    "trip_end_dt = today_dt + dt.timedelta(days=15)\n",
    "year_ago_dt = today_dt - dt.timedelta(days=365)\n",
    "today = f'{today_dt.year}-{today_dt.month}-{today_dt.day}'\n",
    "trip_end = f'{trip_end_dt.year}-{trip_end_dt.month}-{trip_end_dt.day}'\n",
    "year_ago = f'{year_ago_dt.year}-{year_ago_dt.month}-{year_ago_dt.day}'"
   ]
  },
  {
   "cell_type": "code",
   "execution_count": 11,
   "metadata": {},
   "outputs": [],
   "source": [
    "# Perform a query to retrieve the data and precipitation scores\n",
    "last_year_data = session.query(Measurement, Station).filter(Measurement.station == Station.station).all()\n",
    "# for line in last_year_data:\n",
    "count= 0\n",
    "data = []\n",
    "for line in last_year_data:\n",
    "    (Measurement, Station) = line\n",
    "    count += 1\n",
    "    dic = {}\n",
    "    dic[\"station\"] = Measurement.station\n",
    "    dic[\"date\"] = Measurement.date\n",
    "    dic[\"prcp\"] = Measurement.prcp\n",
    "    dic[\"tobs\"] = Measurement.tobs\n",
    "    dic[\"name\"] = Station.name\n",
    "    dic[\"latitude\"] = Station.latitude\n",
    "    dic[\"longitude\"] = Station.longitude\n",
    "    dic[\"elevation\"] = Station.elevation\n",
    "    data.append(dic)\n",
    "    \n"
   ]
  },
  {
   "cell_type": "code",
   "execution_count": 12,
   "metadata": {},
   "outputs": [],
   "source": [
    "# Save the query results as a Pandas DataFrame and set the index to the date column\n",
    "measurement_all_df = pd.DataFrame(data)\n",
    "measurement_df = measurement_all_df.set_index(\"date\")\n",
    "measurement_df = measurement_df.loc[measurement_df.index > year_ago]\n",
    "measurement_df = measurement_df.loc[measurement_df.index < today]\n",
    "\n",
    "# Sort the dataframe by date\n",
    "measurement_df = measurement_df.sort_index()\n"
   ]
  },
  {
   "cell_type": "code",
   "execution_count": 13,
   "metadata": {},
   "outputs": [
    {
     "data": {
      "image/png": "[encoded data removed]",
      "text/plain": [
       "<Figure size 432x288 with 1 Axes>"
      ]
     },
     "metadata": {},
     "output_type": "display_data"
    }
   ],
   "source": [
    "# Use Pandas Plotting with Matplotlib to plot the data\n",
    "prcp_bar = plt.bar(measurement_df.index,measurement_df.prcp)\n",
    "plt.tick_params(\n",
    "    axis='x',          \n",
    "    which='both',      \n",
    "    bottom=False,      \n",
    "    top=False,         \n",
    "    labelbottom=False)\n",
    "plt.tight_layout()\n",
    "plt.show()\n"
   ]
  },
  {
   "cell_type": "code",
   "execution_count": 14,
   "metadata": {},
   "outputs": [
    {
     "data": {
      "text/plain": [
       "count    1697.000000\n",
       "mean        0.164349\n",
       "std         0.426988\n",
       "min         0.000000\n",
       "25%         0.000000\n",
       "50%         0.010000\n",
       "75%         0.120000\n",
       "max         6.250000\n",
       "Name: prcp, dtype: float64"
      ]
     },
     "execution_count": 14,
     "metadata": {},
     "output_type": "execute_result"
    }
   ],
   "source": [
    "# Use Pandas to calcualte the summary statistics for the precipitation data\n",
    "measurement_df['prcp'].describe()"
   ]
  },
  {
   "cell_type": "code",
   "execution_count": 15,
   "metadata": {},
   "outputs": [
    {
     "data": {
      "text/plain": [
       "9"
      ]
     },
     "execution_count": 15,
     "metadata": {},
     "output_type": "execute_result"
    }
   ],
   "source": [
    "# How many stations are available in this dataset?\n",
    "len(measurement_all_df.station.unique())"
   ]
  },
  {
   "cell_type": "code",
   "execution_count": 16,
   "metadata": {},
   "outputs": [],
   "source": [
    "# What are the most active stations?\n",
    "# List the stations and the counts in descending order.\n",
    "active_stations = measurement_all_df.groupby('station').agg({'name' : 'count'})\n",
    "active_stations = active_stations.sort_values('name', ascending=False)\n",
    "most_active_station = active_stations.index[0]\n",
    "\n"
   ]
  },
  {
   "cell_type": "code",
   "execution_count": 17,
   "metadata": {},
   "outputs": [
    {
     "name": "stdout",
     "output_type": "stream",
     "text": [
      "Lowest temp last year at USC00519281: 59f\n",
      "Highest temp last year at USC00519281: 83f\n",
      "Average temp last year at USC00519281: 72f\n"
     ]
    }
   ],
   "source": [
    "# Using the station id from the previous query, calculate the lowest temperature recorded, \n",
    "# highest temperature recorded, and average temperature from most active station.\n",
    "waikiki_df = measurement_df.loc[measurement_df.station == most_active_station]\n",
    "low_temp = int(waikiki_df.tobs.min())\n",
    "high_temp = int(waikiki_df.tobs.max())\n",
    "ave_temp = int(waikiki_df.tobs.mean())\n",
    "print(f\"Lowest temp last year at {most_active_station}: {low_temp}f\")\n",
    "print(f\"Highest temp last year at {most_active_station}: {high_temp}f\")\n",
    "print(f\"Average temp last year at {most_active_station}: {ave_temp}f\")"
   ]
  },
  {
   "cell_type": "code",
   "execution_count": 18,
   "metadata": {},
   "outputs": [
    {
     "data": {
      "image/png": "[encoded data removed]",
      "text/plain": [
       "<Figure size 432x288 with 1 Axes>"
      ]
     },
     "metadata": {},
     "output_type": "display_data"
    }
   ],
   "source": [
    "# Choose the station with the highest number of temperature observations.\n",
    "# Query the last 12 months of temperature observation data for this station and plot the results as a histogram\n",
    "plt.figure()\n",
    "measurement_df.tobs.hist(bins=12)\n",
    "plt.show()\n"
   ]
  },
  {
   "cell_type": "code",
   "execution_count": 19,
   "metadata": {},
   "outputs": [
    {
     "data": {
      "text/plain": [
       "[65.0, 74.0, 70.325]"
      ]
     },
     "execution_count": 19,
     "metadata": {},
     "output_type": "execute_result"
    }
   ],
   "source": [
    "# Write a function called `calc_temps` that will accept start date and end date in the format '%Y-%m-%d' \n",
    "# and return the minimum, average, and maximum temperatures for that range of dates\n",
    "def calc_temps(start_date, end_date):\n",
    "    trip_df= measurement_all_df.loc[measurement_all_df.date > start_date]\n",
    "    trip_df= trip_df.loc[trip_df.date < end_date]\n",
    "    \n",
    "    all_of_em = []\n",
    "    all_of_em.append(trip_df.tobs.min())\n",
    "    all_of_em.append(trip_df.tobs.max())\n",
    "    all_of_em.append(trip_df.tobs.mean())\n",
    "    \n",
    "    return all_of_em\n",
    "\n",
    "    \n",
    "calc_temps('2012-02-28', '2012-03-05')"
   ]
  },
  {
   "cell_type": "code",
   "execution_count": 25,
   "metadata": {},
   "outputs": [
    {
     "name": "stdout",
     "output_type": "stream",
     "text": [
      "Please enter start date in the format 'YYYY-MM-DD'2015-10-10\n",
      "Please enter end date in the format 'YYYY-MM-DD'2015-10-25\n"
     ]
    }
   ],
   "source": [
    "# Use your previous function `calc_temps` to calculate the tmin, tavg, and tmax \n",
    "# for your trip using the previous year's data for those same dates.\n",
    "trip_start_date = str(input(\"Please enter start date in the format 'YYYY-MM-DD'\"))\n",
    "trip_end_date = str(input(\"Please enter end date in the format 'YYYY-MM-DD'\"))\n"
   ]
  },
  {
   "cell_type": "code",
   "execution_count": 26,
   "metadata": {},
   "outputs": [
    {
     "data": {
      "text/plain": [
       "[70.0, 83.0, 76.09803921568627]"
      ]
     },
     "execution_count": 26,
     "metadata": {},
     "output_type": "execute_result"
    }
   ],
   "source": [
    "trip_temp = calc_temps(trip_start_date, trip_end_date)\n",
    "trip_temp"
   ]
  },
  {
   "cell_type": "code",
   "execution_count": 27,
   "metadata": {},
   "outputs": [
    {
     "data": {
      "image/png": "[encoded data removed]",
      "text/plain": [
       "<Figure size 432x288 with 1 Axes>"
      ]
     },
     "metadata": {},
     "output_type": "display_data"
    }
   ],
   "source": [
    "# Plot the results from your previous query as a bar chart. \n",
    "# Use \"Trip Avg Temp\" as your Title\n",
    "# Use the average temperature for the y value\n",
    "# Use the peak-to-peak (tmax-tmin) value as the y error bar (yerr)\n",
    "fig, ax = plt.subplots()\n",
    "ax.set_title('Trip Avg Temp')\n",
    "ax.boxplot(trip_temp)\n",
    "plt.show()"
   ]
  },
  {
   "cell_type": "code",
   "execution_count": 28,
   "metadata": {},
   "outputs": [
    {
     "data": {
      "text/html": [
       "<div>\n",
       "<style scoped>\n",
       "    .dataframe tbody tr th:only-of-type {\n",
       "        vertical-align: middle;\n",
       "    }\n",
       "\n",
       "    .dataframe tbody tr th {\n",
       "        vertical-align: top;\n",
       "    }\n",
       "\n",
       "    .dataframe thead th {\n",
       "        text-align: right;\n",
       "    }\n",
       "</style>\n",
       "<table border=\"1\" class=\"dataframe\">\n",
       "  <thead>\n",
       "    <tr style=\"text-align: right;\">\n",
       "      <th></th>\n",
       "      <th></th>\n",
       "      <th></th>\n",
       "      <th></th>\n",
       "      <th></th>\n",
       "      <th>prcp</th>\n",
       "      <th>tobs</th>\n",
       "    </tr>\n",
       "    <tr>\n",
       "      <th>station</th>\n",
       "      <th>name</th>\n",
       "      <th>elevation</th>\n",
       "      <th>latitude</th>\n",
       "      <th>longitude</th>\n",
       "      <th></th>\n",
       "      <th></th>\n",
       "    </tr>\n",
       "  </thead>\n",
       "  <tbody>\n",
       "    <tr>\n",
       "      <th>USC00516128</th>\n",
       "      <th>MANOA LYON ARBO 785.2, HI US</th>\n",
       "      <th>152.4</th>\n",
       "      <th>21.33310</th>\n",
       "      <th>-157.80250</th>\n",
       "      <td>0.640000</td>\n",
       "      <td>74.000000</td>\n",
       "    </tr>\n",
       "    <tr>\n",
       "      <th>USC00514830</th>\n",
       "      <th>KUALOA RANCH HEADQUARTERS 886.9, HI US</th>\n",
       "      <th>7.0</th>\n",
       "      <th>21.52130</th>\n",
       "      <th>-157.83740</th>\n",
       "      <td>0.595000</td>\n",
       "      <td>78.615385</td>\n",
       "    </tr>\n",
       "    <tr>\n",
       "      <th>USC00519523</th>\n",
       "      <th>WAIMANALO EXPERIMENTAL FARM, HI US</th>\n",
       "      <th>19.5</th>\n",
       "      <th>21.33556</th>\n",
       "      <th>-157.71139</th>\n",
       "      <td>0.509091</td>\n",
       "      <td>76.307692</td>\n",
       "    </tr>\n",
       "    <tr>\n",
       "      <th>USC00519281</th>\n",
       "      <th>WAIHEE 837.5, HI US</th>\n",
       "      <th>32.9</th>\n",
       "      <th>21.45167</th>\n",
       "      <th>-157.84889</th>\n",
       "      <td>0.472857</td>\n",
       "      <td>74.642857</td>\n",
       "    </tr>\n",
       "    <tr>\n",
       "      <th>USC00513117</th>\n",
       "      <th>KANEOHE 838.1, HI US</th>\n",
       "      <th>14.6</th>\n",
       "      <th>21.42340</th>\n",
       "      <th>-157.80150</th>\n",
       "      <td>0.435714</td>\n",
       "      <td>76.214286</td>\n",
       "    </tr>\n",
       "    <tr>\n",
       "      <th>USC00511918</th>\n",
       "      <th>HONOLULU OBSERVATORY 702.2, HI US</th>\n",
       "      <th>0.9</th>\n",
       "      <th>21.31520</th>\n",
       "      <th>-157.99920</th>\n",
       "      <td>0.094444</td>\n",
       "      <td>72.111111</td>\n",
       "    </tr>\n",
       "    <tr>\n",
       "      <th>USC00519397</th>\n",
       "      <th>WAIKIKI 717.2, HI US</th>\n",
       "      <th>3.0</th>\n",
       "      <th>21.27160</th>\n",
       "      <th>-157.81680</th>\n",
       "      <td>0.015000</td>\n",
       "      <td>78.357143</td>\n",
       "    </tr>\n",
       "    <tr>\n",
       "      <th>USC00518838</th>\n",
       "      <th>UPPER WAHIAWA 874.3, HI US</th>\n",
       "      <th>306.6</th>\n",
       "      <th>21.49920</th>\n",
       "      <th>-158.01110</th>\n",
       "      <td>0.000000</td>\n",
       "      <td>76.500000</td>\n",
       "    </tr>\n",
       "    <tr>\n",
       "      <th>USC00517948</th>\n",
       "      <th>PEARL CITY, HI US</th>\n",
       "      <th>11.9</th>\n",
       "      <th>21.39340</th>\n",
       "      <th>-157.97510</th>\n",
       "      <td>NaN</td>\n",
       "      <td>77.000000</td>\n",
       "    </tr>\n",
       "  </tbody>\n",
       "</table>\n",
       "</div>"
      ],
      "text/plain": [
       "                                                                                      prcp  \\\n",
       "station     name                                   elevation latitude longitude              \n",
       "USC00516128 MANOA LYON ARBO 785.2, HI US           152.4     21.33310 -157.80250  0.640000   \n",
       "USC00514830 KUALOA RANCH HEADQUARTERS 886.9, HI US 7.0       21.52130 -157.83740  0.595000   \n",
       "USC00519523 WAIMANALO EXPERIMENTAL FARM, HI US     19.5      21.33556 -157.71139  0.509091   \n",
       "USC00519281 WAIHEE 837.5, HI US                    32.9      21.45167 -157.84889  0.472857   \n",
       "USC00513117 KANEOHE 838.1, HI US                   14.6      21.42340 -157.80150  0.435714   \n",
       "USC00511918 HONOLULU OBSERVATORY 702.2, HI US      0.9       21.31520 -157.99920  0.094444   \n",
       "USC00519397 WAIKIKI 717.2, HI US                   3.0       21.27160 -157.81680  0.015000   \n",
       "USC00518838 UPPER WAHIAWA 874.3, HI US             306.6     21.49920 -158.01110  0.000000   \n",
       "USC00517948 PEARL CITY, HI US                      11.9      21.39340 -157.97510       NaN   \n",
       "\n",
       "                                                                                       tobs  \n",
       "station     name                                   elevation latitude longitude              \n",
       "USC00516128 MANOA LYON ARBO 785.2, HI US           152.4     21.33310 -157.80250  74.000000  \n",
       "USC00514830 KUALOA RANCH HEADQUARTERS 886.9, HI US 7.0       21.52130 -157.83740  78.615385  \n",
       "USC00519523 WAIMANALO EXPERIMENTAL FARM, HI US     19.5      21.33556 -157.71139  76.307692  \n",
       "USC00519281 WAIHEE 837.5, HI US                    32.9      21.45167 -157.84889  74.642857  \n",
       "USC00513117 KANEOHE 838.1, HI US                   14.6      21.42340 -157.80150  76.214286  \n",
       "USC00511918 HONOLULU OBSERVATORY 702.2, HI US      0.9       21.31520 -157.99920  72.111111  \n",
       "USC00519397 WAIKIKI 717.2, HI US                   3.0       21.27160 -157.81680  78.357143  \n",
       "USC00518838 UPPER WAHIAWA 874.3, HI US             306.6     21.49920 -158.01110  76.500000  \n",
       "USC00517948 PEARL CITY, HI US                      11.9      21.39340 -157.97510  77.000000  "
      ]
     },
     "execution_count": 28,
     "metadata": {},
     "output_type": "execute_result"
    }
   ],
   "source": [
    "# Calculate the rainfall per weather station for your trip dates using the previous year's matching dates.\n",
    "# Sort this in descending order by precipitation amount and list the station, name, latitude, longitude, and elevation\n",
    "def calc_percp(start_date, end_date):  \n",
    "    trip = measurement_all_df.loc[measurement_all_df.date > start_date]\n",
    "    trip = trip.loc[trip.date < end_date]\n",
    "    trip = trip.groupby(['station','name','elevation','latitude','longitude']).mean()\n",
    "    trip = trip.sort_values(by='prcp', ascending=False)    \n",
    "    return trip.head(20)\n",
    "    \n",
    "calc_percp(trip_start_date,trip_end_date)\n"
   ]
  }
 ],
 "metadata": {
  "kernel_info": {
   "name": "python3"
  },
  "kernelspec": {
   "display_name": "Python [conda env:pythondata]",
   "language": "python",
   "name": "conda-env-pythondata-py"
  },
  "language_info": {
   "codemirror_mode": {
    "name": "ipython",
    "version": 3
   },
   "file_extension": ".py",
   "mimetype": "text/x-python",
   "name": "python",
   "nbconvert_exporter": "python",
   "pygments_lexer": "ipython3",
   "version": "3.6.5"
  },
  "nteract": {
   "version": "0.9.1"
  },
  "varInspector": {
   "cols": {
    "lenName": 16,
    "lenType": 16,
    "lenVar": 40
   },
   "kernels_config": {
    "python": {
     "delete_cmd_postfix": "",
     "delete_cmd_prefix": "del ",
     "library": "var_list.py",
     "varRefreshCmd": "print(var_dic_list())"
    },
    "r": {
     "delete_cmd_postfix": ") ",
     "delete_cmd_prefix": "rm(",
     "library": "var_list.r",
     "varRefreshCmd": "cat(var_dic_list()) "
    }
   },
   "types_to_exclude": [
    "module",
    "function",
    "builtin_function_or_method",
    "instance",
    "_Feature"
   ],
   "window_display": false
  }
 },
 "nbformat": 4,
 "nbformat_minor": 2
}
